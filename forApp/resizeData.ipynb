{
 "cells": [
  {
   "cell_type": "code",
   "execution_count": null,
   "metadata": {},
   "outputs": [],
   "source": [
    "# from PIL import Image\n",
    "# import os\n",
    "\n",
    "# # Define the input and output directories\n",
    "# input_dir = '../villageDataset/leafData'\n",
    "# output_dir = 'appData'\n",
    "\n",
    "# # Loop through all the subdirectories in the input directory\n",
    "# for subdir in os.listdir(input_dir):\n",
    "#     # Create a new subdirectory in the output directory for the current subdirectory\n",
    "#     os.makedirs(os.path.join(output_dir, subdir), exist_ok=True)\n",
    "#     # Loop through all the files in the current subdirectory\n",
    "#     for filename in os.listdir(os.path.join(input_dir, subdir)):\n",
    "#         # Check if the file is an image\n",
    "#         if filename.endswith('.JPG'):\n",
    "#             # Open the image and resize it to 100x100 pixels\n",
    "#             with Image.open(os.path.join(input_dir, subdir, filename)) as img:\n",
    "#                 img = img.resize((128, 128))\n",
    "#                 # Save the resized and grayscale image to the output directory with the same filename\n",
    "#                 img.save(os.path.join(output_dir, subdir, filename))\n"
   ]
  }
 ],
 "metadata": {
  "language_info": {
   "name": "python"
  },
  "orig_nbformat": 4
 },
 "nbformat": 4,
 "nbformat_minor": 2
}
